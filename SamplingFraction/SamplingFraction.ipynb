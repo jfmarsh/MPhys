{
 "cells": [
  {
   "cell_type": "markdown",
   "metadata": {},
   "source": [
    "# Sampling Fraction "
   ]
  },
  {
   "cell_type": "code",
   "execution_count": 1,
   "metadata": {},
   "outputs": [],
   "source": [
    "TFile *f=new TFile(\"histSF_fccee_inclined_90.root\");"
   ]
  },
  {
   "cell_type": "code",
   "execution_count": 2,
   "metadata": {
    "scrolled": false
   },
   "outputs": [
    {
     "data": {
      "image/png": "[encoded data removed]",
      "text/plain": [
       "<IPython.core.display.Image object>"
      ]
     },
     "metadata": {},
     "output_type": "display_data"
    },
    {
     "name": "stdout",
     "output_type": "stream",
     "text": [
      "Mean SF: 0.126436"
     ]
    },
    {
     "name": "stderr",
     "output_type": "stream",
     "text": [
      "Info in <TCanvas::MakeDefCanvas>:  created default TCanvas with name c1\n"
     ]
    }
   ],
   "source": [
    "// Example histogram \n",
    "TH1F *h1=(TH1F*)f->Get(\"ecal_sf_layer20\");\n",
    "h1->Draw();\n",
    "c1->Draw();\n",
    "double mean = h1->GetMean();\n",
    "std::cout << \"Mean SF: \" << mean;\n",
    "//c1->SaveAs(\"SFlayer20.pdf\")"
   ]
  },
  {
   "cell_type": "code",
   "execution_count": 3,
   "metadata": {},
   "outputs": [],
   "source": [
    "int nhists = 90;\n",
    "\n",
    "// open text file to write sampling fraction values to \n",
    "ofstream MyFile(\"SamplingFraction_90layers.txt\");\n",
    "\n",
    "// loop over all histograms \n",
    "for(Int_t i=0; i<nhists; i++){\n",
    "    \n",
    "    char buffer[100];\n",
    "    int retVal;\n",
    "    int hist = i;\n",
    "    // sprintf to write formatted string to character string buffer \n",
    "    retVal = sprintf(buffer, \"ecal_sf_layer%d\", hist);\n",
    "    \n",
    "    // get the histogram \n",
    "    TH1F *h=(TH1F*)f->Get(buffer);\n",
    "    // extract the mean \n",
    "    double mean = h->GetMean();\n",
    "    \n",
    "    // write mean to text file\n",
    "    MyFile << \"[\" << mean << \"]*1 + \";\n",
    "}\n",
    "\n",
    "MyFile.close();"
   ]
  }
 ],
 "metadata": {
  "kernelspec": {
   "display_name": "ROOT C++",
   "language": "c++",
   "name": "root"
  },
  "language_info": {
   "codemirror_mode": "text/x-c++src",
   "file_extension": ".C",
   "mimetype": " text/x-c++src",
   "name": "c++"
  }
 },
 "nbformat": 4,
 "nbformat_minor": 4
}
