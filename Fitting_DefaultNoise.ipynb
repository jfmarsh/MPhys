{
 "cells": [
  {
   "cell_type": "markdown",
   "metadata": {},
   "source": [
    "# MPhys Project: Noise Modelling"
   ]
  },
  {
   "cell_type": "code",
   "execution_count": 1,
   "metadata": {},
   "outputs": [],
   "source": [
    "import math \n",
    "import numpy as np\n",
    "import matplotlib.pyplot as plt"
   ]
  },
  {
   "cell_type": "code",
   "execution_count": 2,
   "metadata": {},
   "outputs": [],
   "source": [
    "# noise in GeV \n",
    "noise = [0.004, 0.0045, 0.004, 0.008, 0.011, 0.015, 0.018, 0.021]\n",
    "\n",
    "# distance in cm \n",
    "distance = []\n",
    "\n",
    "# number of layers (0.5cm thick)\n",
    "layers = []"
   ]
  },
  {
   "cell_type": "code",
   "execution_count": 3,
   "metadata": {},
   "outputs": [],
   "source": [
    "# first layer is 2 cm thick \n",
    "# remaining layers are 6.15 cm thick \n",
    "\n",
    "for i in range(len(noise)):\n",
    "    if i == 0:\n",
    "        distance.append(2)\n",
    "        layers.append(4)\n",
    "    if i > 0:\n",
    "        distance.append((distance[i-1] + 6.15))\n",
    "        layers.append((layers[i-1] + 12.3))"
   ]
  },
  {
   "cell_type": "code",
   "execution_count": 4,
   "metadata": {
    "scrolled": true
   },
   "outputs": [
    {
     "name": "stdout",
     "output_type": "stream",
     "text": [
      "[2, 8.15, 14.3, 20.450000000000003, 26.6, 32.75, 38.9, 45.05]\n"
     ]
    }
   ],
   "source": [
    "print(distance)"
   ]
  },
  {
   "cell_type": "code",
   "execution_count": 5,
   "metadata": {},
   "outputs": [
    {
     "name": "stdout",
     "output_type": "stream",
     "text": [
      "[4, 16.3, 28.6, 40.900000000000006, 53.2, 65.5, 77.8, 90.1]\n"
     ]
    }
   ],
   "source": [
    "print(layers)"
   ]
  },
  {
   "cell_type": "markdown",
   "metadata": {},
   "source": [
    "## Fitting Noise as a Function of Calorimeter Length"
   ]
  },
  {
   "cell_type": "code",
   "execution_count": 6,
   "metadata": {
    "scrolled": false
   },
   "outputs": [
    {
     "data": {
      "image/png": "[encoded data removed]",
      "text/plain": [
       "<Figure size 576x432 with 1 Axes>"
      ]
     },
     "metadata": {
      "needs_background": "light"
     },
     "output_type": "display_data"
    }
   ],
   "source": [
    "plt.figure(figsize=(8,6))\n",
    "plt.scatter(distance,noise)\n",
    "plt.xlabel(\"Calorimeter Length (cm)\")\n",
    "plt.ylim(0,0.03)\n",
    "plt.ylabel(\"Noise [GeV]\")\n",
    "plt.title(\"Noise values as a function of distance ($\\eta$ = 0)\")\n",
    "plt.savefig(\"NoiseAgainstDistance.pdf\")\n",
    "plt.show()"
   ]
  },
  {
   "cell_type": "code",
   "execution_count": 7,
   "metadata": {},
   "outputs": [
    {
     "name": "stdout",
     "output_type": "stream",
     "text": [
      "[0.00416667]\n"
     ]
    }
   ],
   "source": [
    "# flat fit for first 3 data points\n",
    "x = distance[0:3]\n",
    "y = noise[0:3]\n",
    "z = np.polyfit(x, y, 0)\n",
    "\n",
    "print(z)"
   ]
  },
  {
   "cell_type": "code",
   "execution_count": 8,
   "metadata": {},
   "outputs": [
    {
     "name": "stdout",
     "output_type": "stream",
     "text": [
      "[ 0.00055285 -0.00357236]\n"
     ]
    }
   ],
   "source": [
    "# linear fit for first 3 data points\n",
    "x2 = distance[2:8]\n",
    "y2 = noise[2:8]\n",
    "z2 = np.polyfit(x2, y2, 1)\n",
    "\n",
    "print(z2)"
   ]
  },
  {
   "cell_type": "code",
   "execution_count": 9,
   "metadata": {},
   "outputs": [],
   "source": [
    "def linearNoise(x):\n",
    "    \n",
    "    # gradient \n",
    "    m = z2[0]\n",
    "    # intercept\n",
    "    c = z2[1]\n",
    "    \n",
    "    # linear equation \n",
    "    y = m*x+c\n",
    "    \n",
    "    return y "
   ]
  },
  {
   "cell_type": "code",
   "execution_count": 10,
   "metadata": {},
   "outputs": [],
   "source": [
    "xVals = np.linspace(14,45,50)\n",
    "yVals = []\n",
    "\n",
    "for i in range(len(xVals)):\n",
    "    y = linearNoise(xVals[i])\n",
    "    yVals.append(y)\n",
    "    \n",
    "xFlat = np.linspace(0,14,30)\n",
    "yFlat = []\n",
    "\n",
    "for i in range(len(xFlat)):\n",
    "    yFlat.append(z)"
   ]
  },
  {
   "cell_type": "code",
   "execution_count": 11,
   "metadata": {},
   "outputs": [
    {
     "data": {
      "image/png": "[encoded data removed]",
      "text/plain": [
       "<Figure size 576x432 with 1 Axes>"
      ]
     },
     "metadata": {
      "needs_background": "light"
     },
     "output_type": "display_data"
    }
   ],
   "source": [
    "plt.figure(figsize=(8,6))\n",
    "plt.scatter(distance,noise, label='Data')\n",
    "plt.scatter(xVals,yVals, label='Linear Fit', marker='.', s=5)\n",
    "plt.scatter(xFlat,yFlat, label='Flat Fit', marker='.', s=5)\n",
    "plt.xlabel(\"Calorimeter Length (cm)\")\n",
    "plt.ylim(0,0.03)\n",
    "plt.ylabel(\"Noise [GeV]\")\n",
    "plt.legend()\n",
    "plt.title(\"Noise values as a function of distance\")\n",
    "plt.savefig(\"NoiseAgainstDistanceFit.pdf\")\n",
    "plt.show()"
   ]
  },
  {
   "cell_type": "markdown",
   "metadata": {},
   "source": [
    "## Fitting Noise as a Function of # Layers "
   ]
  },
  {
   "cell_type": "code",
   "execution_count": 12,
   "metadata": {},
   "outputs": [
    {
     "data": {
      "image/png": "[encoded data removed]",
      "text/plain": [
       "<Figure size 576x432 with 1 Axes>"
      ]
     },
     "metadata": {
      "needs_background": "light"
     },
     "output_type": "display_data"
    }
   ],
   "source": [
    "plt.figure(figsize=(8,6))\n",
    "plt.scatter(layers,noise)\n",
    "plt.xlabel(\"Calorimeter Layers (0.5cm each)\")\n",
    "plt.ylim(0,0.03)\n",
    "plt.ylabel(\"Noise [GeV]\")\n",
    "plt.title(\"Noise values as a function of layers ($\\eta$ = 0)\")\n",
    "plt.savefig(\"NoiseAgainstLayers.pdf\")\n",
    "plt.show()"
   ]
  },
  {
   "cell_type": "code",
   "execution_count": 13,
   "metadata": {},
   "outputs": [
    {
     "name": "stdout",
     "output_type": "stream",
     "text": [
      "[0.00416667]\n"
     ]
    }
   ],
   "source": [
    "# flat fit for first 3 data points\n",
    "x3 = layers[0:3]\n",
    "y3 = noise[0:3]\n",
    "z3 = np.polyfit(x3, y3, 0)\n",
    "\n",
    "print(z3)"
   ]
  },
  {
   "cell_type": "code",
   "execution_count": 14,
   "metadata": {},
   "outputs": [
    {
     "name": "stdout",
     "output_type": "stream",
     "text": [
      "[ 0.00027642 -0.00357236]\n"
     ]
    }
   ],
   "source": [
    "# linear fit for first 3 data points\n",
    "x4 = layers[2:8]\n",
    "y4 = noise[2:8]\n",
    "z4 = np.polyfit(x4, y4, 1)\n",
    "\n",
    "print(z4)"
   ]
  },
  {
   "cell_type": "code",
   "execution_count": 15,
   "metadata": {},
   "outputs": [],
   "source": [
    "def linNoise(x):\n",
    "    \n",
    "    # gradient \n",
    "    m = z4[0]\n",
    "    # intercept\n",
    "    c = z4[1]\n",
    "    \n",
    "    # linear equation \n",
    "    y = m*x+c\n",
    "    \n",
    "    return y "
   ]
  },
  {
   "cell_type": "code",
   "execution_count": 16,
   "metadata": {},
   "outputs": [],
   "source": [
    "xData = np.linspace(0,91,92)\n",
    "yData = []\n",
    "\n",
    "for i in range(len(xData)):\n",
    "    if i < 29:\n",
    "        yData.append(z3)\n",
    "    if i > 28:\n",
    "        y = linNoise(xData[i])\n",
    "        yData.append(y)"
   ]
  },
  {
   "cell_type": "code",
   "execution_count": 17,
   "metadata": {},
   "outputs": [
    {
     "data": {
      "image/png": "[encoded data removed]",
      "text/plain": [
       "<Figure size 576x432 with 1 Axes>"
      ]
     },
     "metadata": {
      "needs_background": "light"
     },
     "output_type": "display_data"
    }
   ],
   "source": [
    "plt.figure(figsize=(8,6))\n",
    "plt.scatter(layers,noise,label='Data')\n",
    "plt.scatter(xData[:29],yData[:29], label='Flat Fit', marker='.', s=5)\n",
    "plt.scatter(xData[29:],yData[29:], label='Linear Fit', marker='.', s=5)\n",
    "plt.xlabel(\"Calorimeter Layers (0.5cm each)\")\n",
    "plt.ylim(0,0.03)\n",
    "plt.ylabel(\"Noise [GeV]\")\n",
    "plt.title(\"Noise values as a function of layers ($\\eta$ = 0)\")\n",
    "plt.legend()\n",
    "plt.savefig(\"NoiseAgainstLayersFit.pdf\")\n",
    "plt.show()"
   ]
  },
  {
   "cell_type": "markdown",
   "metadata": {},
   "source": [
    "# Modelling with Default Noise"
   ]
  },
  {
   "cell_type": "code",
   "execution_count": 18,
   "metadata": {},
   "outputs": [],
   "source": [
    "# load the data \n",
    "Layer1 = np.loadtxt(\"DefaultNoiseValues_Layer1.txt\")\n",
    "Layer2 = np.loadtxt(\"DefaultNoiseValues_Layer2.txt\")\n",
    "Layer3 = np.loadtxt(\"DefaultNoiseValues_Layer3.txt\")\n",
    "Layer4 = np.loadtxt(\"DefaultNoiseValues_Layer4.txt\")\n",
    "Layer5 = np.loadtxt(\"DefaultNoiseValues_Layer5.txt\")\n",
    "Layer6 = np.loadtxt(\"DefaultNoiseValues_Layer6.txt\")\n",
    "Layer7 = np.loadtxt(\"DefaultNoiseValues_Layer7.txt\")\n",
    "Layer8 = np.loadtxt(\"DefaultNoiseValues_Layer8.txt\")\n"
   ]
  },
  {
   "cell_type": "code",
   "execution_count": 19,
   "metadata": {},
   "outputs": [],
   "source": [
    "# n is the degree of the polynomial \n",
    "def Fit(x,y,n):\n",
    "    z = np.polyfit(x, y, n)\n",
    "    return z"
   ]
  },
  {
   "cell_type": "code",
   "execution_count": 33,
   "metadata": {},
   "outputs": [],
   "source": [
    "nbins = len(Layer1)\n",
    "flatZ = []\n",
    "linearGrad = []\n",
    "linearInt = []\n",
    "\n",
    "for i in range(nbins):\n",
    "    \n",
    "    # degree of polynomials \n",
    "    nFlat = 0 \n",
    "    nLinear = 1\n",
    "    \n",
    "    Noise = [Layer1[i],Layer2[i],Layer3[i],Layer4[i],Layer5[i],Layer6[i],Layer7[i],Layer8[i]]\n",
    "    \n",
    "    flatFit = Fit(layers[:3],Noise[:3],nFlat)\n",
    "    linearFit = Fit(layers[2:],Noise[2:],nLinear)\n",
    "    \n",
    "    flatZ.append(flatFit)\n",
    "    linearGrad.append(linearFit[0])\n",
    "    linearInt.append(linearFit[1])\n",
    "    \n",
    "flatZ = np.array(flatZ)\n",
    "linearGrad = np.array(linearGrad)\n",
    "linearInt = np.array(linearInt)\n",
    "\n",
    "np.savetxt(\"FlatFitResults.txt\", flatZ)\n",
    "np.savetxt(\"LinearFitResults_Gradient.txt\", linearGrad)\n",
    "np.savetxt(\"LinearFitResults_Intercept.txt\", linearInt)"
   ]
  },
  {
   "cell_type": "code",
   "execution_count": 31,
   "metadata": {},
   "outputs": [
    {
     "data": {
      "text/plain": [
       "28.6"
      ]
     },
     "execution_count": 31,
     "metadata": {},
     "output_type": "execute_result"
    }
   ],
   "source": [
    "layers[2]"
   ]
  },
  {
   "cell_type": "code",
   "execution_count": 21,
   "metadata": {},
   "outputs": [
    {
     "name": "stdout",
     "output_type": "stream",
     "text": [
      "[0.0052884, 0.00627281, 0.00524821, 0.0105927, 0.0153055, 0.0196477, 0.023894, 0.0286341]\n"
     ]
    },
    {
     "data": {
      "image/png": "[encoded data removed]",
      "text/plain": [
       "<Figure size 576x432 with 1 Axes>"
      ]
     },
     "metadata": {
      "needs_background": "light"
     },
     "output_type": "display_data"
    }
   ],
   "source": [
    "Noise_eta83 = [Layer1[82],Layer2[82],Layer3[82],Layer4[82],Layer5[82],Layer6[82],Layer7[82],Layer8[82]]\n",
    "print(Noise_eta83)\n",
    "\n",
    "plt.figure(figsize=(8,6))\n",
    "plt.scatter(layers,Noise_eta83)\n",
    "plt.xlabel(\"Calorimeter Layers (0.5cm each)\")\n",
    "plt.ylim(0,0.03)\n",
    "plt.ylabel(\"Noise [GeV]\")\n",
    "plt.title(\"Noise values as a function of layers ($\\eta$ = 0)\")\n",
    "# plt.savefig(\"NoiseAgainstLayers.pdf\")\n",
    "plt.show()"
   ]
  }
 ],
 "metadata": {
  "kernelspec": {
   "display_name": "Python 3",
   "language": "python",
   "name": "python3"
  },
  "language_info": {
   "codemirror_mode": {
    "name": "ipython",
    "version": 3
   },
   "file_extension": ".py",
   "mimetype": "text/x-python",
   "name": "python",
   "nbconvert_exporter": "python",
   "pygments_lexer": "ipython3",
   "version": "3.8.6"
  }
 },
 "nbformat": 4,
 "nbformat_minor": 2
}
